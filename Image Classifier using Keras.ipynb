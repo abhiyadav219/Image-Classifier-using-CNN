{
 "cells": [
  {
   "cell_type": "code",
   "execution_count": 1,
   "metadata": {},
   "outputs": [],
   "source": [
    "from keras.models import Sequential\n",
    "from keras.layers import Conv2D,MaxPool2D,Flatten,Dense"
   ]
  },
  {
   "cell_type": "code",
   "execution_count": 2,
   "metadata": {},
   "outputs": [],
   "source": [
    "model=Sequential()"
   ]
  },
  {
   "cell_type": "code",
   "execution_count": 3,
   "metadata": {},
   "outputs": [],
   "source": [
    "model.add(Conv2D(filters=32,kernel_size=(3,3),activation='relu',input_shape=(64,64,3)))\n",
    "model.add(MaxPool2D(pool_size=(3,3)))\n",
    "model.add(Flatten())\n",
    "model.add(Dense(units=128,activation='relu'))\n",
    "model.add(Dense(units=2,activation='sigmoid'))"
   ]
  },
  {
   "cell_type": "code",
   "execution_count": 4,
   "metadata": {},
   "outputs": [],
   "source": [
    "model.compile(optimizer='adam',loss='binary_crossentropy',metrics=['accuracy'])"
   ]
  },
  {
   "cell_type": "code",
   "execution_count": 5,
   "metadata": {},
   "outputs": [],
   "source": [
    "from keras.preprocessing.image import ImageDataGenerator\n",
    "trainfolder=ImageDataGenerator(rescale=1./255,zoom_range=0.2,shear_range=0.2,horizontal_flip=True)\n",
    "testfolder=ImageDataGenerator(rescale=1./255)"
   ]
  },
  {
   "cell_type": "code",
   "execution_count": 6,
   "metadata": {},
   "outputs": [
    {
     "name": "stdout",
     "output_type": "stream",
     "text": [
      "Found 8005 images belonging to 2 classes.\n",
      "Found 2023 images belonging to 2 classes.\n"
     ]
    }
   ],
   "source": [
    "train=trainfolder.flow_from_directory(\"F:/ML Pro/Image Classifiers/training_set/training_set\",target_size=(64,64),class_mode='binary',batch_size=30)\n",
    "test=testfolder.flow_from_directory(\"F:/ML Pro/Image Classifiers/test_set/test_set\",target_size=(64,64),class_mode='binary',batch_size=30)"
   ]
  },
  {
   "cell_type": "code",
   "execution_count": 13,
   "metadata": {},
   "outputs": [
    {
     "name": "stdout",
     "output_type": "stream",
     "text": [
      "Epoch 1/25\n",
      "267/267 [==============================] - 202s 756ms/step - loss: 7.6686 - accuracy: 0.4997 - val_loss: 7.6686 - val_accuracy: 0.4998\n",
      "Epoch 2/25\n",
      "267/267 [==============================] - 263s 984ms/step - loss: 7.6686 - accuracy: 0.4997 - val_loss: 7.6686 - val_accuracy: 0.4998\n",
      "Epoch 3/25\n",
      "267/267 [==============================] - 136s 510ms/step - loss: 7.6686 - accuracy: 0.4997 - val_loss: 7.6686 - val_accuracy: 0.4998\n",
      "Epoch 4/25\n",
      "267/267 [==============================] - 149s 557ms/step - loss: 7.6686 - accuracy: 0.4997 - val_loss: 7.6686 - val_accuracy: 0.4998\n",
      "Epoch 5/25\n",
      "267/267 [==============================] - 152s 570ms/step - loss: 7.6686 - accuracy: 0.4997 - val_loss: 7.6686 - val_accuracy: 0.4998\n",
      "Epoch 6/25\n",
      "267/267 [==============================] - 156s 584ms/step - loss: 7.6686 - accuracy: 0.4997 - val_loss: 7.6686 - val_accuracy: 0.4998\n",
      "Epoch 7/25\n",
      "267/267 [==============================] - 156s 586ms/step - loss: 7.6686 - accuracy: 0.4997 - val_loss: 7.6686 - val_accuracy: 0.4998\n",
      "Epoch 8/25\n",
      "267/267 [==============================] - 153s 572ms/step - loss: 7.6686 - accuracy: 0.4997 - val_loss: 7.6686 - val_accuracy: 0.4998\n",
      "Epoch 9/25\n",
      "267/267 [==============================] - 153s 575ms/step - loss: 7.6686 - accuracy: 0.4997 - val_loss: 7.6686 - val_accuracy: 0.4998\n",
      "Epoch 10/25\n",
      "267/267 [==============================] - 137s 515ms/step - loss: 7.6686 - accuracy: 0.4997 - val_loss: 7.6686 - val_accuracy: 0.4998\n",
      "Epoch 11/25\n",
      "267/267 [==============================] - 137s 513ms/step - loss: 7.6686 - accuracy: 0.4997 - val_loss: 7.6686 - val_accuracy: 0.4998\n",
      "Epoch 12/25\n",
      "267/267 [==============================] - 142s 532ms/step - loss: 7.6686 - accuracy: 0.4997 - val_loss: 7.6686 - val_accuracy: 0.4998\n",
      "Epoch 13/25\n",
      "267/267 [==============================] - 136s 511ms/step - loss: 7.6686 - accuracy: 0.4997 - val_loss: 7.6686 - val_accuracy: 0.4998\n",
      "Epoch 14/25\n",
      "267/267 [==============================] - 139s 520ms/step - loss: 7.6686 - accuracy: 0.4997 - val_loss: 7.6686 - val_accuracy: 0.4998\n",
      "Epoch 15/25\n",
      "267/267 [==============================] - 138s 515ms/step - loss: 7.6686 - accuracy: 0.4997 - val_loss: 7.6686 - val_accuracy: 0.4998\n",
      "Epoch 16/25\n",
      "267/267 [==============================] - 140s 525ms/step - loss: 7.6686 - accuracy: 0.4997 - val_loss: 7.6686 - val_accuracy: 0.4998\n",
      "Epoch 17/25\n",
      "267/267 [==============================] - 138s 518ms/step - loss: 7.6686 - accuracy: 0.4997 - val_loss: 7.6686 - val_accuracy: 0.4998\n",
      "Epoch 18/25\n",
      "267/267 [==============================] - 140s 526ms/step - loss: 7.6686 - accuracy: 0.4997 - val_loss: 7.6686 - val_accuracy: 0.4998\n",
      "Epoch 19/25\n",
      "267/267 [==============================] - 139s 520ms/step - loss: 7.6686 - accuracy: 0.4997 - val_loss: 7.6686 - val_accuracy: 0.4998\n",
      "Epoch 20/25\n",
      "267/267 [==============================] - 140s 523ms/step - loss: 7.6686 - accuracy: 0.4997 - val_loss: 7.6686 - val_accuracy: 0.4998\n",
      "Epoch 21/25\n",
      "267/267 [==============================] - 149s 559ms/step - loss: 7.6686 - accuracy: 0.4997 - val_loss: 7.6686 - val_accuracy: 0.4998\n",
      "Epoch 22/25\n",
      "267/267 [==============================] - 157s 587ms/step - loss: 7.6686 - accuracy: 0.4997 - val_loss: 7.6686 - val_accuracy: 0.4998\n",
      "Epoch 23/25\n",
      "267/267 [==============================] - 159s 594ms/step - loss: 7.6686 - accuracy: 0.4997 - val_loss: 7.6686 - val_accuracy: 0.4998\n",
      "Epoch 24/25\n",
      "267/267 [==============================] - 138s 517ms/step - loss: 7.6686 - accuracy: 0.4997 - val_loss: 7.6686 - val_accuracy: 0.4998\n",
      "Epoch 25/25\n",
      "267/267 [==============================] - 135s 507ms/step - loss: 7.6686 - accuracy: 0.4997 - val_loss: 7.6686 - val_accuracy: 0.4998\n"
     ]
    },
    {
     "data": {
      "text/plain": [
       "<tensorflow.python.keras.callbacks.History at 0x190b0d1a0c8>"
      ]
     },
     "execution_count": 13,
     "metadata": {},
     "output_type": "execute_result"
    }
   ],
   "source": [
    "model.fit(train,validation_data=test,epochs=25)"
   ]
  },
  {
   "cell_type": "code",
   "execution_count": 12,
   "metadata": {},
   "outputs": [
    {
     "data": {
      "text/plain": [
       "{'cats': 0, 'dogs': 1}"
      ]
     },
     "execution_count": 12,
     "metadata": {},
     "output_type": "execute_result"
    }
   ],
   "source": [
    "train.class_indices"
   ]
  },
  {
   "cell_type": "code",
   "execution_count": 11,
   "metadata": {},
   "outputs": [
    {
     "name": "stdout",
     "output_type": "stream",
     "text": [
      "[[1. 0.]]\n"
     ]
    }
   ],
   "source": [
    "import numpy as np\n",
    "from keras.preprocessing import image\n",
    "test_image=image.load_img(\"F:/git/catie.jpg\",target_size=(64,64))\n",
    "test_image=image.img_to_array(test_image)\n",
    "test_image=np.expand_dims(test_image,axis=0)\n",
    "result=model.predict(test_image)\n",
    "train.class_indices\n",
    "if result[0][0] == 1:\n",
    "prediction = 'dog'\n",
    "else:\n",
    "prediction = 'cat'\n",
    "print(result)"
   ]
  },
  {
   "cell_type": "code",
   "execution_count": null,
   "metadata": {},
   "outputs": [],
   "source": []
  },
  {
   "cell_type": "code",
   "execution_count": null,
   "metadata": {},
   "outputs": [],
   "source": []
  },
  {
   "cell_type": "code",
   "execution_count": null,
   "metadata": {},
   "outputs": [],
   "source": []
  },
  {
   "cell_type": "code",
   "execution_count": null,
   "metadata": {},
   "outputs": [],
   "source": []
  }
 ],
 "metadata": {
  "kernelspec": {
   "display_name": "Python 3",
   "language": "python",
   "name": "python3"
  },
  "language_info": {
   "codemirror_mode": {
    "name": "ipython",
    "version": 3
   },
   "file_extension": ".py",
   "mimetype": "text/x-python",
   "name": "python",
   "nbconvert_exporter": "python",
   "pygments_lexer": "ipython3",
   "version": "3.7.6"
  }
 },
 "nbformat": 4,
 "nbformat_minor": 4
}
